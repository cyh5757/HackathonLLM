{
 "cells": [
  {
   "cell_type": "code",
   "execution_count": 2,
   "metadata": {},
   "outputs": [
    {
     "name": "stdout",
     "output_type": "stream",
     "text": [
      "Requirement already satisfied: pandas in c:\\users\\main\\workplace\\llm\\snack\\hackathonllm\\chainlit\\.venv\\lib\\site-packages (2.2.3)\n",
      "Requirement already satisfied: numpy>=1.26.0 in c:\\users\\main\\workplace\\llm\\snack\\hackathonllm\\chainlit\\.venv\\lib\\site-packages (from pandas) (1.26.4)\n",
      "Requirement already satisfied: python-dateutil>=2.8.2 in c:\\users\\main\\workplace\\llm\\snack\\hackathonllm\\chainlit\\.venv\\lib\\site-packages (from pandas) (2.9.0.post0)\n",
      "Requirement already satisfied: pytz>=2020.1 in c:\\users\\main\\workplace\\llm\\snack\\hackathonllm\\chainlit\\.venv\\lib\\site-packages (from pandas) (2025.2)\n",
      "Requirement already satisfied: tzdata>=2022.7 in c:\\users\\main\\workplace\\llm\\snack\\hackathonllm\\chainlit\\.venv\\lib\\site-packages (from pandas) (2025.2)\n",
      "Requirement already satisfied: six>=1.5 in c:\\users\\main\\workplace\\llm\\snack\\hackathonllm\\chainlit\\.venv\\lib\\site-packages (from python-dateutil>=2.8.2->pandas) (1.17.0)\n"
     ]
    },
    {
     "name": "stderr",
     "output_type": "stream",
     "text": [
      "\n",
      "[notice] A new release of pip is available: 24.3.1 -> 25.1.1\n",
      "[notice] To update, run: C:\\Users\\MAIN\\Workplace\\LLM\\Snack\\HackathonLLM\\chainlit\\.venv\\Scripts\\python.exe -m pip install --upgrade pip\n"
     ]
    }
   ],
   "source": [
    "!pip install pandas"
   ]
  },
  {
   "cell_type": "code",
   "execution_count": 5,
   "metadata": {},
   "outputs": [
    {
     "name": "stdout",
     "output_type": "stream",
     "text": [
      "현재 작업 디렉토리: c:\\Users\\MAIN\\Workplace\\LLM\\Snack\\HackathonLLM\\scripts\n",
      "작업 디렉토리 내 파일/폴더 목록: ['allergy_qa_sample.csv', 'chainlit_app.py', 'evaluate_rag.py', 'export_data_to_json.py', 'load_snack_to_vectordb.py', 'openai_eval.py', 'rag_gpt_comparison.csv', 'rag_gpt_comparison_2.csv', 'rag_response_comparison.csv', 'rag_response_comparison_2.csv', 'rag_result_analysis.ipynb', 'README.md', 'run_export.py', 'sample_data.json', 'sample_json2csv.py', 'test_pgvector.py', 'test_rag_service.py', 'test_re_rank_service.py', '__pycache__']\n",
      "파일을 찾을 수 없습니다: [Errno 2] No such file or directory: './scripts/rag_gpt_comparison.csv'\n",
      "다음 경로에서 파일을 확인해보세요: c:\\Users\\MAIN\\Workplace\\LLM\\Snack\\HackathonLLM\\scripts\n"
     ]
    }
   ],
   "source": [
    "import os\n",
    "import pandas as pd\n",
    "\n",
    "# 현재 작업 디렉토리 확인\n",
    "print(\"현재 작업 디렉토리:\", os.getcwd())\n",
    "\n",
    "# scripts 폴더가 있는지 확인\n",
    "print(\"작업 디렉토리 내 파일/폴더 목록:\", os.listdir())\n",
    "\n",
    "# 파일이 있는 정확한 경로 지정하기\n",
    "# 예시: 전체 경로를 지정하거나, 상대 경로를 조정\n",
    "try:\n",
    "    # 방법 1: 상대 경로 조정 (예: 상위 디렉토리로 이동)\n",
    "    df1 = pd.read_csv(\"./scripts/rag_gpt_comparison.csv\", encoding=\"utf-8-sig\")\n",
    "    # 또는\n",
    "    # df1 = pd.read_csv(\"../scripts/rag_gpt_comparison.csv\", encoding=\"utf-8-sig\")\n",
    "    \n",
    "    df2 = pd.read_csv(\"./scripts/rag_gpt_comparison_2.csv\", encoding=\"utf-8-sig\")\n",
    "    \n",
    "    # 두 데이터프레임 합치기\n",
    "    # 여기에 합치는 코드 작성\n",
    "    \n",
    "except FileNotFoundError as e:\n",
    "    print(\"파일을 찾을 수 없습니다:\", e)\n",
    "    print(\"다음 경로에서 파일을 확인해보세요:\", os.getcwd())"
   ]
  },
  {
   "cell_type": "code",
   "execution_count": null,
   "metadata": {},
   "outputs": [],
   "source": []
  },
  {
   "cell_type": "code",
   "execution_count": 15,
   "metadata": {},
   "outputs": [
    {
     "name": "stdout",
     "output_type": "stream",
     "text": [
      "첫 번째 파일 행 수: 20\n",
      "두 번째 파일 행 수: 20\n"
     ]
    }
   ],
   "source": [
    "import pandas as pd\n",
    "\n",
    "# CSV 파일 불러오기\n",
    "df1 = pd.read_csv(\"rag_gpt_comparison.csv\", encoding=\"utf-8-sig\")\n",
    "df2 = pd.read_csv(\"rag_gpt_comparison_2.csv\", encoding=\"utf-8-sig\")\n",
    "\n",
    "\n",
    "\n",
    "# 결과 확인\n",
    "print(f\"첫 번째 파일 행 수: {len(df1)}\")\n",
    "print(f\"두 번째 파일 행 수: {len(df2)}\")\n",
    "\n",
    "\n"
   ]
  },
  {
   "cell_type": "code",
   "execution_count": null,
   "metadata": {},
   "outputs": [],
   "source": []
  },
  {
   "cell_type": "code",
   "execution_count": null,
   "metadata": {},
   "outputs": [],
   "source": []
  },
  {
   "cell_type": "code",
   "execution_count": 16,
   "metadata": {},
   "outputs": [
    {
     "data": {
      "text/plain": [
       "Index(['제품명', '질문', 'baseline_응답', 'rerank_응답', '모델대답예시', 'GPT_평가'], dtype='object')"
      ]
     },
     "execution_count": 16,
     "metadata": {},
     "output_type": "execute_result"
    }
   ],
   "source": [
    "df1.columns"
   ]
  },
  {
   "cell_type": "code",
   "execution_count": null,
   "metadata": {},
   "outputs": [],
   "source": []
  },
  {
   "cell_type": "code",
   "execution_count": 17,
   "metadata": {},
   "outputs": [
    {
     "name": "stdout",
     "output_type": "stream",
     "text": [
      "GPT_평가 값 분포:\n",
      "GPT_평가\n",
      "1    16\n",
      "2     4\n",
      "Name: count, dtype: int64\n",
      "\n",
      "전체 데이터 수: 20\n"
     ]
    }
   ],
   "source": [
    "# gpt_score의 값 분포 확인\n",
    "print(\"GPT_평가 값 분포:\")\n",
    "print(df1[\"GPT_평가\"].value_counts())\n",
    "print(\"\\n전체 데이터 수:\", len(df1))"
   ]
  },
  {
   "cell_type": "code",
   "execution_count": 18,
   "metadata": {},
   "outputs": [
    {
     "name": "stdout",
     "output_type": "stream",
     "text": [
      "GPT_평가 값 분포:\n",
      "GPT_평가\n",
      "1    16\n",
      "2     4\n",
      "Name: count, dtype: int64\n",
      "\n",
      "전체 데이터 수: 20\n"
     ]
    }
   ],
   "source": [
    "# gpt_score의 값 분포 확인\n",
    "print(\"GPT_평가 값 분포:\")\n",
    "print(df1[\"GPT_평가\"].value_counts())\n",
    "print(\"\\n전체 데이터 수:\", len(df2))"
   ]
  },
  {
   "cell_type": "code",
   "execution_count": 21,
   "metadata": {},
   "outputs": [
    {
     "name": "stdout",
     "output_type": "stream",
     "text": [
      "첫 번째 파일에서 GPT_평가가 2인 행 수: 4\n",
      "두 번째 파일에서 GPT_평가가 2인 행 수: 5\n",
      "\n",
      "첫 번째 파일의 결과:\n",
      "              제품명  GPT_평가\n",
      "12      포켓몬7 스핀피즈       2\n",
      "16  후디스 초유의 힘 츄어블       2\n",
      "17      쫀득쫀득 참붕어빵       2\n",
      "19            몽스팝       2\n",
      "\n",
      "두 번째 파일의 결과:\n",
      "                         제품명  GPT_평가\n",
      "8               아이얌 칼슘웨하스 딸기       2\n",
      "12                 포켓몬7 스핀피즈       2\n",
      "16             후디스 초유의 힘 츄어블       2\n",
      "17                 쫀득쫀득 참붕어빵       2\n",
      "18  팝핑캔디, 시나모롤 퍼레이드 피규어 팝핑캔디       2\n"
     ]
    }
   ],
   "source": [
    "# GPT_평가가 2인 행 추출\n",
    "df1_score_2 = df1[df1[\"GPT_평가\"] == 2]\n",
    "df2_score_2 = df2[df2[\"GPT_평가\"] == 2]\n",
    "\n",
    "# 결과 출력\n",
    "print(\"첫 번째 파일에서 GPT_평가가 2인 행 수:\", len(df1_score_2))\n",
    "print(\"두 번째 파일에서 GPT_평가가 2인 행 수:\", len(df2_score_2))\n",
    "\n",
    "# 첫 번째 파일의 결과 출력\n",
    "print(\"\\n첫 번째 파일의 결과:\")\n",
    "print(df1_score_2[[\"제품명\", \"GPT_평가\"]])\n",
    "print(\"\\n두 번째 파일의 결과:\")\n",
    "print(df2_score_2[[\"제품명\", \"GPT_평가\"]])\n"
   ]
  },
  {
   "cell_type": "code",
   "execution_count": 22,
   "metadata": {},
   "outputs": [
    {
     "data": {
      "text/html": [
       "<div>\n",
       "<style scoped>\n",
       "    .dataframe tbody tr th:only-of-type {\n",
       "        vertical-align: middle;\n",
       "    }\n",
       "\n",
       "    .dataframe tbody tr th {\n",
       "        vertical-align: top;\n",
       "    }\n",
       "\n",
       "    .dataframe thead th {\n",
       "        text-align: right;\n",
       "    }\n",
       "</style>\n",
       "<table border=\"1\" class=\"dataframe\">\n",
       "  <thead>\n",
       "    <tr style=\"text-align: right;\">\n",
       "      <th></th>\n",
       "      <th>제품명</th>\n",
       "      <th>질문</th>\n",
       "      <th>baseline_응답</th>\n",
       "      <th>rerank_응답</th>\n",
       "      <th>모델대답예시</th>\n",
       "      <th>GPT_평가</th>\n",
       "    </tr>\n",
       "  </thead>\n",
       "  <tbody>\n",
       "    <tr>\n",
       "      <th>0</th>\n",
       "      <td>샌드에이스 핑크레몬</td>\n",
       "      <td>'샌드에이스 핑크레몬' 제품에 포함된 첨가물(프로필렌글리콜, 비타민B1염산염, 향신...</td>\n",
       "      <td>'샌드에이스 핑크레몬' 제품에 포함된 첨가물 중 알레르기 유발 가능성이 있는 성분에...</td>\n",
       "      <td>샌드에이스 핑크레몬 제품에 포함된 첨가물 중 알레르기 유발 가능성이 있는 성분에 대...</td>\n",
       "      <td>샌드에이스 핑크레몬 제품은 총 12개의 첨가물이 포함되어 있으며, 안전등급은 다음과...</td>\n",
       "      <td>1</td>\n",
       "    </tr>\n",
       "    <tr>\n",
       "      <th>1</th>\n",
       "      <td>구운감자슬림 매콤한맛</td>\n",
       "      <td>'구운감자슬림 매콤한맛' 제품에 포함된 첨가물(효모추출물, 프로테아제, 향신료올레오...</td>\n",
       "      <td>'구운감자슬림 매콤한맛' 제품에 포함된 첨가물 중 알레르기 유발 가능성이 있는 성분...</td>\n",
       "      <td>'구운감자슬림 매콤한맛' 제품에 포함된 첨가물 중 알레르기 유발 가능성이 있는 성분...</td>\n",
       "      <td>구운감자슬림 매콤한맛 제품은 총 4개의 첨가물이 포함되어 있으며, 안전등급은 다음과...</td>\n",
       "      <td>1</td>\n",
       "    </tr>\n",
       "    <tr>\n",
       "      <th>2</th>\n",
       "      <td>스트라이킹 팝핑캔디</td>\n",
       "      <td>'스트라이킹 팝핑캔디' 제품에 포함된 첨가물(DL-사과산, 식용색소청색제1호, 식용...</td>\n",
       "      <td>'스트라이킹 팝핑캔디' 제품에 포함된 첨가물 중 알레르기 유발 가능성이 있는 성분에...</td>\n",
       "      <td>'스트라이킹 팝핑캔디' 제품에 포함된 첨가물 중 알레르기 유발 가능성이 있는 성분에...</td>\n",
       "      <td>스트라이킹 팝핑캔디 제품은 총 5개의 첨가물이 포함되어 있으며, 안전등급은 다음과 ...</td>\n",
       "      <td>1</td>\n",
       "    </tr>\n",
       "    <tr>\n",
       "      <th>3</th>\n",
       "      <td>먼작귀 프렌즈3</td>\n",
       "      <td>'먼작귀 프렌즈3' 제품에 포함된 첨가물(글리세린, 쉘락, 글리세린지방산에스테르, ...</td>\n",
       "      <td>'먼작귀 프렌즈3' 제품에 포함된 첨가물 중 알레르기 유발 가능성이 있는 성분에 대...</td>\n",
       "      <td>'먼작귀 프렌즈3' 제품에 포함된 첨가물 중 알레르기 유발 가능성이 있는 성분에 대...</td>\n",
       "      <td>먼작귀 프렌즈3 제품은 총 7개의 첨가물이 포함되어 있으며, 안전등급은 다음과 같습...</td>\n",
       "      <td>1</td>\n",
       "    </tr>\n",
       "    <tr>\n",
       "      <th>4</th>\n",
       "      <td>산리오캐릭터즈 프렌즈2</td>\n",
       "      <td>'산리오캐릭터즈 프렌즈2' 제품에 포함된 첨가물(글리세린, 쉘락, 글리세린지방산에스...</td>\n",
       "      <td>'산리오캐릭터즈 프렌즈2' 제품에 포함된 첨가물 중 알레르기 유발 가능성이 있는 성...</td>\n",
       "      <td>'산리오캐릭터즈 프렌즈2' 제품에 포함된 첨가물 중 알레르기 유발 가능성이 있는 성...</td>\n",
       "      <td>산리오캐릭터즈 프렌즈2 제품은 총 7개의 첨가물이 포함되어 있으며, 안전등급은 다음...</td>\n",
       "      <td>1</td>\n",
       "    </tr>\n",
       "  </tbody>\n",
       "</table>\n",
       "</div>"
      ],
      "text/plain": [
       "            제품명                                                 질문  \\\n",
       "0    샌드에이스 핑크레몬  '샌드에이스 핑크레몬' 제품에 포함된 첨가물(프로필렌글리콜, 비타민B1염산염, 향신...   \n",
       "1   구운감자슬림 매콤한맛  '구운감자슬림 매콤한맛' 제품에 포함된 첨가물(효모추출물, 프로테아제, 향신료올레오...   \n",
       "2    스트라이킹 팝핑캔디  '스트라이킹 팝핑캔디' 제품에 포함된 첨가물(DL-사과산, 식용색소청색제1호, 식용...   \n",
       "3      먼작귀 프렌즈3  '먼작귀 프렌즈3' 제품에 포함된 첨가물(글리세린, 쉘락, 글리세린지방산에스테르, ...   \n",
       "4  산리오캐릭터즈 프렌즈2  '산리오캐릭터즈 프렌즈2' 제품에 포함된 첨가물(글리세린, 쉘락, 글리세린지방산에스...   \n",
       "\n",
       "                                         baseline_응답  \\\n",
       "0  '샌드에이스 핑크레몬' 제품에 포함된 첨가물 중 알레르기 유발 가능성이 있는 성분에...   \n",
       "1  '구운감자슬림 매콤한맛' 제품에 포함된 첨가물 중 알레르기 유발 가능성이 있는 성분...   \n",
       "2  '스트라이킹 팝핑캔디' 제품에 포함된 첨가물 중 알레르기 유발 가능성이 있는 성분에...   \n",
       "3  '먼작귀 프렌즈3' 제품에 포함된 첨가물 중 알레르기 유발 가능성이 있는 성분에 대...   \n",
       "4  '산리오캐릭터즈 프렌즈2' 제품에 포함된 첨가물 중 알레르기 유발 가능성이 있는 성...   \n",
       "\n",
       "                                           rerank_응답  \\\n",
       "0  샌드에이스 핑크레몬 제품에 포함된 첨가물 중 알레르기 유발 가능성이 있는 성분에 대...   \n",
       "1  '구운감자슬림 매콤한맛' 제품에 포함된 첨가물 중 알레르기 유발 가능성이 있는 성분...   \n",
       "2  '스트라이킹 팝핑캔디' 제품에 포함된 첨가물 중 알레르기 유발 가능성이 있는 성분에...   \n",
       "3  '먼작귀 프렌즈3' 제품에 포함된 첨가물 중 알레르기 유발 가능성이 있는 성분에 대...   \n",
       "4  '산리오캐릭터즈 프렌즈2' 제품에 포함된 첨가물 중 알레르기 유발 가능성이 있는 성...   \n",
       "\n",
       "                                              모델대답예시  GPT_평가  \n",
       "0  샌드에이스 핑크레몬 제품은 총 12개의 첨가물이 포함되어 있으며, 안전등급은 다음과...       1  \n",
       "1  구운감자슬림 매콤한맛 제품은 총 4개의 첨가물이 포함되어 있으며, 안전등급은 다음과...       1  \n",
       "2  스트라이킹 팝핑캔디 제품은 총 5개의 첨가물이 포함되어 있으며, 안전등급은 다음과 ...       1  \n",
       "3  먼작귀 프렌즈3 제품은 총 7개의 첨가물이 포함되어 있으며, 안전등급은 다음과 같습...       1  \n",
       "4  산리오캐릭터즈 프렌즈2 제품은 총 7개의 첨가물이 포함되어 있으며, 안전등급은 다음...       1  "
      ]
     },
     "execution_count": 22,
     "metadata": {},
     "output_type": "execute_result"
    }
   ],
   "source": [
    "df2.head()"
   ]
  },
  {
   "cell_type": "code",
   "execution_count": 24,
   "metadata": {},
   "outputs": [
    {
     "data": {
      "text/plain": [
       "'샌드에이스 핑크레몬 제품은 총 12개의 첨가물이 포함되어 있으며, 안전등급은 다음과 같습니다: LOW, SAFE, SAFE, SAFE, MODERATE, SAFE, UNKNOWN, SAFE, SAFE, SAFE, UNKNOWN, LOW.'"
      ]
     },
     "execution_count": 24,
     "metadata": {},
     "output_type": "execute_result"
    }
   ],
   "source": [
    "df2[\"모델대답예시\"][0]"
   ]
  },
  {
   "cell_type": "code",
   "execution_count": null,
   "metadata": {},
   "outputs": [],
   "source": [
    "df2[\"rerank_응답\"][0]"
   ]
  },
  {
   "cell_type": "code",
   "execution_count": null,
   "metadata": {},
   "outputs": [],
   "source": []
  },
  {
   "cell_type": "code",
   "execution_count": null,
   "metadata": {},
   "outputs": [],
   "source": []
  },
  {
   "cell_type": "code",
   "execution_count": null,
   "metadata": {},
   "outputs": [],
   "source": []
  },
  {
   "cell_type": "code",
   "execution_count": null,
   "metadata": {},
   "outputs": [],
   "source": []
  },
  {
   "cell_type": "code",
   "execution_count": null,
   "metadata": {},
   "outputs": [],
   "source": []
  },
  {
   "cell_type": "code",
   "execution_count": null,
   "metadata": {},
   "outputs": [],
   "source": []
  },
  {
   "cell_type": "code",
   "execution_count": null,
   "metadata": {},
   "outputs": [],
   "source": []
  },
  {
   "cell_type": "code",
   "execution_count": null,
   "metadata": {},
   "outputs": [],
   "source": []
  },
  {
   "cell_type": "code",
   "execution_count": null,
   "metadata": {},
   "outputs": [],
   "source": []
  }
 ],
 "metadata": {
  "kernelspec": {
   "display_name": "base",
   "language": "python",
   "name": "python3"
  },
  "language_info": {
   "codemirror_mode": {
    "name": "ipython",
    "version": 3
   },
   "file_extension": ".py",
   "mimetype": "text/x-python",
   "name": "python",
   "nbconvert_exporter": "python",
   "pygments_lexer": "ipython3",
   "version": "3.12.7"
  }
 },
 "nbformat": 4,
 "nbformat_minor": 2
}
